{
 "cells": [
  {
   "cell_type": "code",
   "execution_count": null,
   "metadata": {},
   "outputs": [],
   "source": [
    "import torch\n",
    "import torchvision\n",
    "import torchvision.transforms as transforms"
   ]
  },
  {
   "cell_type": "code",
   "execution_count": null,
   "metadata": {},
   "outputs": [],
   "source": [
    "from dataset import myDataset\n",
    "\n",
    "transform = transforms.Compose(\n",
    "    [transforms.ToTensor(),\n",
    "     transforms.Normalize(mean=[0.4914, 0.4822, 0.4465],\n",
    "        std=[0.2023, 0.1994, 0.2010])])\n",
    "\n",
    "batch_size = 32\n",
    "\n",
    "dataset = myDataset(csv_file='dataset.csv', root_dir='images', transform=transform)\n",
    "train_set, test_set = torch.utils.data.random_split(dataset, [int(len(dataset)*0.8), (len(dataset) - int(len(dataset)*0.8))])\n",
    "\n",
    "trainloader = torch.utils.data.DataLoader(dataset=train_set, batch_size=batch_size, shuffle=True, num_workers=2)\n",
    "\n",
    "testloader = torch.utils.data.DataLoader(dataset=test_set, batch_size=batch_size, shuffle=True, num_workers=2)\n",
    "\n",
    "\n",
    "classes = ('66_8277', '26_7300', 'CE_9284', 'CA_2012', '89_2185', 'BA_3348', 'CO_2967', 'BI_7767'\n",
    "           'AN_5551','40_7546','39_6994', 'CU_1997', '25_7383', '12_9123', '88_7593', '37_7584',\n",
    "           'CL_5517', '21_7915', 'AN_3202', 'CA_2969', '71_7668', 'AS_5297', 'BA_9287', 'BA_6047',\n",
    "           'AL_3674', 'BU_4412', '90_1798', 'CA_9242', 'CL_3054', '45_3654', 'CO_5402', 'CE_5443')"
   ]
  },
  {
   "cell_type": "code",
   "execution_count": null,
   "metadata": {},
   "outputs": [],
   "source": [
    "# classes = ('AS_5297', 'EN_9322', 'AL_3674', 'AN_3202', 'AN_5551', 'BA_3348',\n",
    "#            'BI_7767', 'BA_9287', 'BA_6047', 'CL_5517', 'CL_3054', 'ST_9228',\n",
    "#            'IS_3233', 'BU_4412', 'CA_2012', 'CE_9284', 'CA_9242', 'CO_2967',\n",
    "#            'ST_6209', '89_2185', 'CA_2969', 'SC_4103', 'CU_1997', 'CO_5402',\n",
    "#            'DA_1494', 'TE_1222', 'DE_2834', 'JX_9890', 'EN_7665', 'EM_1329',\n",
    "#            'ST_8707', 'EA_7681', 'EX_2653', 'FA_6407', '37_7584', 'FA_8861',\n",
    "#            'FI_1960', 'GA_5346', 'GA_9429', 'GO_3034', 'GR_1465', 'MA_1741',\n",
    "#            'LU_1220', 'GO_3007', 'GR_5986', 'SC_3434', 'GR_8567', 'HA_7479',\n",
    "#            'ST_2692', 'HE_9213', '21_7915', 'IN_3095', 'CE_5443', 'IN_8918',\n",
    "#            'JA_1650', '90_1798', 'KO_8739', 'KO_9606', 'KN_9743', 'GE_6275',\n",
    "#            'LO_5524', 'LO_7545', 'FA_6299', 'LI_7416', 'LA_3365', 'MA_7301',\n",
    "#            'MA_9292', 'LA_1306', 'ME_1743', '39_6994', 'MA_9826', 'MU_9865',\n",
    "#            'MA_1364', 'MO_5908', 'MC_7625', 'ME_8426', 'NO_6035', 'NO_5305',\n",
    "#            'CX_9075', 'NE_1746', '26_7300', 'OD_2380', 'ON_5652', 'LE_2709',\n",
    "#            'PO_9305', 'DX_4769', 'FI_7927', 'RE_9485', 'RO_1048', 'JO_2678',\n",
    "#            '25_7383', 'RO_9917', 'RE_6304', 'RA_6665', '71_7668', 'SO_3435',\n",
    "#            'SU_4290', 'SI_4482', 'SA_8340', 'SI_4775', 'FA_8586', 'GE_1251',\n",
    "#            'ST_9494', 'SA_2453', 'SI_4076', '40_7546', 'TR_2681', 'TO_5998',\n",
    "#            'SO_6442', '45_3654', 'UN_8969', 'UN_5680', 'VA_6051', 'NO_6203',\n",
    "#            'VA_2793', '12_9123', 'WA_9437', 'WE_7962', 'WI_9481', 'WO_6684',\n",
    "#            'MC_1270', 'WA_3342', 'WH_7537', 'WO_6759', 'WY_3553', '66_8277',\n",
    "#            '88_7593')"
   ]
  },
  {
   "cell_type": "code",
   "execution_count": null,
   "metadata": {},
   "outputs": [],
   "source": [
    "import matplotlib.pyplot as plt\n",
    "import numpy as np\n",
    "\n",
    "# functions to show an image\n",
    "\n",
    "def imshow(img):\n",
    "    img = img / 2 + 0.5     # unnormalize\n",
    "    npimg = img.numpy()\n",
    "    plt.imshow(np.transpose(npimg, (1, 2, 0)))\n",
    "    plt.show()\n",
    "\n",
    "\n",
    "# get some random training images\n",
    "dataiter = iter(trainloader)\n",
    "images, labels = next(dataiter)\n",
    "\n",
    "# show images\n",
    "imshow(torchvision.utils.make_grid(images))\n",
    "# print labels\n",
    "print(' '.join(f'{classes[labels[j]]:5s}' for j in range(batch_size)))"
   ]
  },
  {
   "cell_type": "code",
   "execution_count": null,
   "metadata": {},
   "outputs": [],
   "source": [
    "num_classes = 33\n",
    "num_epochs = 20\n",
    "batch_size = 32\n",
    "learning_rate = 0.01"
   ]
  },
  {
   "attachments": {},
   "cell_type": "markdown",
   "metadata": {},
   "source": [
    "Run for Resnet Model:"
   ]
  },
  {
   "cell_type": "code",
   "execution_count": null,
   "metadata": {},
   "outputs": [],
   "source": [
    "#import nn\n",
    "import torch.nn as nn\n",
    "\n",
    "class ResidualBlock(nn.Module):\n",
    "    def __init__(self, in_channels, out_channels, stride = 1, downsample = None):\n",
    "        super(ResidualBlock, self).__init__()\n",
    "        self.conv1 = nn.Sequential(\n",
    "                        nn.Conv2d(in_channels, out_channels, kernel_size = 3, stride = stride, padding = 1),\n",
    "                        nn.BatchNorm2d(out_channels),\n",
    "                        nn.ReLU())\n",
    "        self.conv2 = nn.Sequential(\n",
    "                        nn.Conv2d(out_channels, out_channels, kernel_size = 3, stride = 1, padding = 1),\n",
    "                        nn.BatchNorm2d(out_channels))\n",
    "        self.downsample = downsample\n",
    "        self.relu = nn.ReLU()\n",
    "        self.out_channels = out_channels\n",
    "        \n",
    "    def forward(self, x):\n",
    "        residual = x\n",
    "        out = self.conv1(x)\n",
    "        out = self.conv2(out)\n",
    "        if self.downsample:\n",
    "            residual = self.downsample(x)\n",
    "        out += residual\n",
    "        out = self.relu(out)\n",
    "        return out"
   ]
  },
  {
   "cell_type": "code",
   "execution_count": null,
   "metadata": {},
   "outputs": [],
   "source": [
    "class ResNet(nn.Module):\n",
    "    def __init__(self, block, layers, num_classes = 10):\n",
    "        super(ResNet, self).__init__()\n",
    "        self.inplanes = 64\n",
    "        self.conv1 = nn.Sequential(\n",
    "                        nn.Conv2d(3, 64, kernel_size = 7, stride = 2, padding = 3),\n",
    "                        nn.BatchNorm2d(64),\n",
    "                        nn.ReLU())\n",
    "        self.maxpool = nn.MaxPool2d(kernel_size = 3, stride = 2, padding = 1)\n",
    "        self.layer0 = self._make_layer(block, 64, layers[0], stride = 1)\n",
    "        self.layer1 = self._make_layer(block, 128, layers[1], stride = 2)\n",
    "        self.layer2 = self._make_layer(block, 256, layers[2], stride = 2)\n",
    "        self.layer3 = self._make_layer(block, 512, layers[3], stride = 2)\n",
    "        self.avgpool = nn.AvgPool2d(7, stride=1)\n",
    "        self.fc = nn.Linear(512, num_classes)\n",
    "        \n",
    "    def _make_layer(self, block, planes, blocks, stride=1):\n",
    "        downsample = None\n",
    "        if stride != 1 or self.inplanes != planes:\n",
    "            \n",
    "            downsample = nn.Sequential(\n",
    "                nn.Conv2d(self.inplanes, planes, kernel_size=1, stride=stride),\n",
    "                nn.BatchNorm2d(planes),\n",
    "            )\n",
    "        layers = []\n",
    "        layers.append(block(self.inplanes, planes, stride, downsample))\n",
    "        self.inplanes = planes\n",
    "        for i in range(1, blocks):\n",
    "            layers.append(block(self.inplanes, planes))\n",
    "\n",
    "        return nn.Sequential(*layers)\n",
    "    \n",
    "    \n",
    "    def forward(self, x):\n",
    "        x = self.conv1(x)\n",
    "        x = self.maxpool(x)\n",
    "        x = self.layer0(x)\n",
    "        x = self.layer1(x)\n",
    "        x = self.layer2(x)\n",
    "        x = self.layer3(x)\n",
    "\n",
    "        x = self.avgpool(x)\n",
    "        x = x.view(x.size(0), -1)\n",
    "        x = self.fc(x)\n",
    "\n",
    "        return x\n",
    "\n",
    "# net = ResNet(ResidualBlock, [3, 4, 6, 3], num_classes = 127)"
   ]
  },
  {
   "cell_type": "code",
   "execution_count": null,
   "metadata": {},
   "outputs": [],
   "source": [
    "import torch.optim as optim\n",
    "net = ResNet(ResidualBlock, [3, 4, 6, 3], num_classes=num_classes)\n",
    "criterion = nn.CrossEntropyLoss()\n",
    "optimizer = optim.SGD(net.parameters(), lr=0.001, momentum=0.9)"
   ]
  },
  {
   "attachments": {},
   "cell_type": "markdown",
   "metadata": {},
   "source": [
    "Run for custom model:"
   ]
  },
  {
   "cell_type": "code",
   "execution_count": null,
   "metadata": {},
   "outputs": [],
   "source": [
    "import torch.nn as nn\n",
    "import torch.nn.functional as F\n",
    "\n",
    "\n",
    "class Net(nn.Module):\n",
    "    def __init__(self):\n",
    "        super().__init__()\n",
    "        self.conv1 = nn.Conv2d(3, 6, 5)\n",
    "        self.pool = nn.MaxPool2d(2, 2)\n",
    "        self.conv2 = nn.Conv2d(6, 16, 5)\n",
    "        self.fc1 = nn.Linear(16 * 5 * 5, 120)\n",
    "        self.fc2 = nn.Linear(120, 84)\n",
    "        self.fc3 = nn.Linear(84, 128)\n",
    "\n",
    "    def forward(self, x):\n",
    "        # Get the original input size\n",
    "        original_size = x.size()[2:]\n",
    "        \n",
    "        # Resize the input to the required size (e.g., (32, 32))\n",
    "        required_size = (32, 32)\n",
    "        if original_size != required_size:\n",
    "            x = F.interpolate(x, size=required_size, mode='bilinear', align_corners=False)\n",
    "        \n",
    "        x = self.pool(F.relu(self.conv1(x)))\n",
    "        x = self.pool(F.relu(self.conv2(x)))\n",
    "        x = torch.flatten(x, 1) # flatten all dimensions except batch\n",
    "        x = x.view(x.size(0), -1)\n",
    "        x = F.relu(self.fc1(x))\n",
    "        x = F.relu(self.fc2(x))\n",
    "        x = self.fc3(x)\n",
    "        return x\n",
    "\n",
    "\n",
    "net = Net()"
   ]
  },
  {
   "cell_type": "code",
   "execution_count": null,
   "metadata": {},
   "outputs": [],
   "source": [
    "net = Net()\n",
    "\n",
    "# Loss and optimizer\n",
    "criterion = nn.CrossEntropyLoss()\n",
    "optimizer = torch.optim.SGD(net.parameters(), lr=learning_rate, weight_decay = 0.001, momentum = 0.9)"
   ]
  },
  {
   "attachments": {},
   "cell_type": "markdown",
   "metadata": {},
   "source": [
    "Run for VGG16 Model:"
   ]
  },
  {
   "cell_type": "code",
   "execution_count": null,
   "metadata": {},
   "outputs": [],
   "source": [
    "from torchvision import models\n",
    "# base_model = models.vgg16(pretrained=True)\n",
    "base_model = models.resnet18(pretrained=True)\n",
    "num_ftrs = base_model.fc.in_features\n",
    "# num_ftrs = base_model.classifier[0].in_features\n",
    "\n",
    "base_model = nn.Sequential(*(list(base_model.children())[:-1]))\n",
    "\n",
    "for param in base_model.parameters():\n",
    "    param.requires_grad = False\n",
    "\n",
    "classifier = nn.Sequential(\n",
    "    nn.Linear(num_ftrs, 1024),\n",
    "    nn.ReLU(),\n",
    "    nn.Linear(1024, num_classes),\n",
    "    nn.Softmax(dim=1)\n",
    ")"
   ]
  },
  {
   "cell_type": "code",
   "execution_count": null,
   "metadata": {},
   "outputs": [],
   "source": [
    "net = nn.Sequential(base_model, nn.Flatten(), classifier)\n",
    "criterion = nn.CrossEntropyLoss()\n",
    "optimizer = optim.SGD(classifier.parameters(), lr=learning_rate, weight_decay = 0.001)"
   ]
  },
  {
   "attachments": {},
   "cell_type": "markdown",
   "metadata": {},
   "source": [
    "Train:"
   ]
  },
  {
   "cell_type": "code",
   "execution_count": null,
   "metadata": {},
   "outputs": [],
   "source": [
    "for epoch in range(num_epochs):  # loop over the dataset multiple times\n",
    "    print(f\"epoch {epoch}\")\n",
    "    running_loss = 0.0\n",
    "    for i, data in enumerate(trainloader, 0):\n",
    "        print(f\"epoch {epoch}: {i}\", end='\\r')\n",
    "        # get the inputs; data is a list of [inputs, labels]\n",
    "        inputs, labels = data\n",
    "\n",
    "        # zero the parameter gradients\n",
    "        optimizer.zero_grad()\n",
    "\n",
    "        # forward + backward + optimize\n",
    "        outputs = net(inputs)\n",
    "        loss = criterion(outputs, labels)\n",
    "        loss.backward()\n",
    "        optimizer.step()\n",
    "\n",
    "        # print statistics\n",
    "        running_loss += loss.item()\n",
    "        # if i % 2000 == 1999:    # print every 2000 mini-batches\n",
    "        #     print(f'[{epoch + 1}, {i + 1:5d}] loss: {running_loss / 2000:.3f}')\n",
    "        #     running_loss = 0.0\n",
    "    print(f'[{epoch + 1}] loss: {running_loss / (i + 1):.3f}')\n",
    "\n",
    "print('Finished Training')"
   ]
  },
  {
   "cell_type": "code",
   "execution_count": null,
   "metadata": {},
   "outputs": [],
   "source": [
    "PATH = './resnet_again.pth'\n",
    "torch.save(net.state_dict(), PATH)"
   ]
  },
  {
   "cell_type": "code",
   "execution_count": null,
   "metadata": {},
   "outputs": [],
   "source": [
    "dataiter = iter(testloader)\n",
    "images, labels = next(dataiter)\n",
    "\n",
    "# print images\n",
    "imshow(torchvision.utils.make_grid(images))\n",
    "print('GroundTruth: ', ' '.join(f'{classes[labels[j]]:5s}' for j in range(32)))"
   ]
  },
  {
   "cell_type": "code",
   "execution_count": null,
   "metadata": {},
   "outputs": [],
   "source": [
    "# Uncomment one of the following lines to load the respective model\n",
    "# net = Net()\n",
    "# net = ResNet(ResidualBlock, [3, 4, 6, 3], num_classes=num_classes)\n",
    "# net = nn.Sequential(base_model, nn.Flatten(), classifier)\n",
    "net.load_state_dict(torch.load(PATH))"
   ]
  },
  {
   "cell_type": "code",
   "execution_count": null,
   "metadata": {},
   "outputs": [],
   "source": [
    "outputs = net(images)"
   ]
  },
  {
   "cell_type": "code",
   "execution_count": null,
   "metadata": {},
   "outputs": [],
   "source": [
    "_, predicted = torch.max(outputs, 1)\n",
    "\n",
    "print('Predicted: ', ' '.join(f'{classes[predicted[j]]:5s}'\n",
    "                              for j in range(32)))"
   ]
  },
  {
   "cell_type": "code",
   "execution_count": null,
   "metadata": {},
   "outputs": [],
   "source": [
    "correct = 0\n",
    "total = 0\n",
    "\n",
    "with torch.no_grad():\n",
    "    for data in testloader:\n",
    "        images, labels = data\n",
    "        # calculate outputs by running images through the network\n",
    "        outputs = net(images)\n",
    "        # the class with the highest energy is what we choose as prediction\n",
    "        _, predicted = torch.max(outputs.data, 1)\n",
    "        total += labels.size(0)\n",
    "        correct += (predicted == labels).sum().item()\n",
    "\n",
    "print(f'Accuracy of the network on the 10000 test images: {100 * correct // total} %')"
   ]
  },
  {
   "cell_type": "code",
   "execution_count": null,
   "metadata": {},
   "outputs": [],
   "source": [
    "correct_pred = {classname: 0 for classname in classes}\n",
    "total_pred = {classname: 0 for classname in classes}\n",
    "\n",
    "# again no gradients needed\n",
    "with torch.no_grad():\n",
    "    for data in testloader:\n",
    "        images, labels = data\n",
    "        outputs = net(images)\n",
    "        _, predictions = torch.max(outputs, 1)\n",
    "        # collect the correct predictions for each class\n",
    "        for label, prediction in zip(labels, predictions):\n",
    "            if label == prediction:\n",
    "                correct_pred[classes[label-1]] += 1\n",
    "            total_pred[classes[label-1]] += 1\n",
    "\n",
    "\n",
    "# print accuracy for each class\n",
    "for classname, correct_count in correct_pred.items():\n",
    "    total_count = total_pred[classname]\n",
    "    if total_count != 0:\n",
    "        accuracy = 100 * float(correct_count) / total_count\n",
    "        print(f'Accuracy for class: {classname:5s} is {accuracy:.3f} %')\n",
    "    else:\n",
    "        print(f'Accuracy for class: {classname:5s} is N/A (no predictions)')"
   ]
  }
 ],
 "metadata": {
  "kernelspec": {
   "display_name": "uoft-nav-venv",
   "language": "python",
   "name": "python3"
  },
  "language_info": {
   "codemirror_mode": {
    "name": "ipython",
    "version": 3
   },
   "file_extension": ".py",
   "mimetype": "text/x-python",
   "name": "python",
   "nbconvert_exporter": "python",
   "pygments_lexer": "ipython3",
   "version": "3.10.7"
  },
  "orig_nbformat": 4
 },
 "nbformat": 4,
 "nbformat_minor": 2
}
